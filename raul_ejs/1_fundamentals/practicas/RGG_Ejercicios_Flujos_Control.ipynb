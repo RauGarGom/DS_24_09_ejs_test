{
 "cells": [
  {
   "cell_type": "markdown",
   "metadata": {},
   "source": [
    "![imagen](./img/ejercicios.png)"
   ]
  },
  {
   "cell_type": "markdown",
   "metadata": {},
   "source": [
    "# Ejercicios Flujos de control"
   ]
  },
  {
   "cell_type": "markdown",
   "metadata": {},
   "source": [
    "## Ejercicio 1\n",
    "Declara una variable numérica que será una hora cualquiera del día. Implementa la siguiente casuística:\n",
    "\n",
    "* Si es entre las 0 y las 8, print \"Durmiendo\"\n",
    "* Si es entre las 9 y las 18, print \"Trabajando\"\n",
    "* Si es entre las 19 y las 21, print \"Clase\"\n",
    "* Si es entre las 22 y las 24, print \"Descanso\"\n",
    "* En cualquier otro caso, print \"Transporte o error\""
   ]
  },
  {
   "cell_type": "code",
   "execution_count": 4,
   "metadata": {},
   "outputs": [
    {
     "name": "stdout",
     "output_type": "stream",
     "text": [
      "Transporte o error\n"
     ]
    }
   ],
   "source": [
    "\"\"\"\n",
    "Se puede hacer también con betweens. Por ejemplo:\n",
    "if 0 <= hora <= 8:\n",
    "    print(\"Durmiendo\")\n",
    "\n",
    "Es menos código, pero puede ser menos legible\n",
    "\"\"\"\n",
    "\n",
    "hora = float(input(\"Introduce la hora del día:\")) ## Deberíamos tener en cuenta que sí puede tener un float (las ocho y media u 8.5, que devolvería \"Transporte o error\")\n",
    "if hora >= 0 and hora <= 8:\n",
    "    print(\"Durmiendo\")\n",
    "elif hora >= 9 and hora <= 18:\n",
    "    print(\"Trabajando\")\n",
    "elif hora >= 19 and hora <= 21:\n",
    "    print(\"Clase\")\n",
    "elif hora >= 22 and hora < 24: ## 24h = 0 h, condición que ya tenemos en el \"Durmiendo\"\n",
    "    print(\"Descanso\")\n",
    "else:\n",
    "    print(\"Transporte o error\")"
   ]
  },
  {
   "cell_type": "markdown",
   "metadata": {},
   "source": [
    "## Ejercicio 2\n",
    "En este ejercicio vamos a implementar un calculador de precios de casas muy sencillo. Tenemos las siguientes variables:\n",
    "\n",
    "> superficie\n",
    ">\n",
    "> distrito\n",
    "\n",
    "Implementa la siguiente casuística:\n",
    "\n",
    "1. Si el distrito es \"Moncloa\" o \"Centro\", y además la superficie es superior a 100 metros cuadrados, el precio de la casa es de 1000\n",
    "2. Si el distrito es \"Salamanca\", y además la superficie de la casa es al menos de 150 metros, el precio de la casa es de 1500\n",
    "3. Si el distrito no es \"Retiro\" y la superficie está entre 60 y 80 metros, el precio es de 600\n",
    "4. En cualquier otro caso, el precio será de 0"
   ]
  },
  {
   "cell_type": "code",
   "execution_count": 13,
   "metadata": {},
   "outputs": [
    {
     "name": "stdout",
     "output_type": "stream",
     "text": [
      "El precio para una casa de 90 metros cuadrados en el distrito de Retiro es de 0 €\n"
     ]
    }
   ],
   "source": [
    "superficie = int(float(input(\"Ingresa la superficie, en m2\")))\n",
    "distrito = input(\"¿Cuál es el distrito?\") ## Con random.choice()(de import random) podemos darle una serie de strings para que los seleccione de forma aleatoria\n",
    "precio = 0 ### No es necesario declarar la variable tan pronto. Como la metemos en todas las condiciones, siempre va a estar declarada.\n",
    "if (distrito == \"Moncloa\" or distrito == \"Centro\") and (superficie > 100): ###No son neesarios los paréntesis del superficie. Sí en la primera condición.\n",
    "    precio = 1000\n",
    "elif distrito == \"Salamanca\" and superficie >= 150:\n",
    "    precio = 1500\n",
    "elif distrito != \"Retiro\" and superficie >= 60 and superficie <= 80: ### Entre, con lo que deberían entrar tanto 60 como 80\n",
    "    precio = 600\n",
    "else:\n",
    "    precio = 0\n",
    "print (f\"El precio para una casa de {superficie} metros cuadrados en el distrito de {distrito} es de {precio} €\")"
   ]
  },
  {
   "cell_type": "markdown",
   "metadata": {},
   "source": [
    "## Ejercicio 3\n",
    "En este ejercicio vamos a realizar un programa muy parecido. Para este caso queremos que se cumplan las siguientes condiciones:\n",
    "\n",
    "1. Primero se compruebe si el distrito es \"Retiro\". Si es asá, que imprima \"Distrito Retiro\", y si no, \"Otro distrito\"\n",
    "2. Si el distrito es \"Retiro\", comprueba si la superficie es mayor de 100 metros cuadrados. En tal caso, que imprima un precio de 1000, y si no, de 500.\n",
    "\n",
    "Prueba a usar `ifs` anidados"
   ]
  },
  {
   "cell_type": "code",
   "execution_count": 5,
   "metadata": {},
   "outputs": [
    {
     "name": "stdout",
     "output_type": "stream",
     "text": [
      "Distrito Retiro\n",
      "Precio de 500 €\n"
     ]
    }
   ],
   "source": [
    "superficie = int(float(input(\"Ingresa la superficie, en m2\")))\n",
    "distrito = input(\"¿Cuál es el distrito?\")\n",
    "precio = 0\n",
    "if distrito == \"Retiro\":\n",
    "    print(\"Distrito Retiro\")\n",
    "    if superficie > 100:\n",
    "        precio = 1000\n",
    "    else:\n",
    "        precio = 500\n",
    "    print(f\"Precio de {precio} €\")\n",
    "else:\n",
    "    print(\"Otro distrito\")"
   ]
  },
  {
   "cell_type": "markdown",
   "metadata": {},
   "source": [
    "## Ejercicio 4\n",
    "Escribe un programa que tenga dos variables: un numero, y una lista numérica. El programa debe recorrer la lista e imprimir por pantalla cada elemento de la lista multiplicado por el número"
   ]
  },
  {
   "cell_type": "code",
   "execution_count": 6,
   "metadata": {},
   "outputs": [
    {
     "name": "stdout",
     "output_type": "stream",
     "text": [
      "Número final: 15\n",
      "Número final: 30\n",
      "Número final: 40\n"
     ]
    }
   ],
   "source": [
    "numero = 5\n",
    "lista = [3,6,8]\n",
    "for i in lista:\n",
    "    mult = i*numero\n",
    "    print(\"Número final:\", mult)\n"
   ]
  },
  {
   "cell_type": "code",
   "execution_count": 6,
   "metadata": {},
   "outputs": [
    {
     "name": "stdout",
     "output_type": "stream",
     "text": [
      "Número final: 15\n",
      "Número final: 30\n",
      "Número final: 40\n"
     ]
    }
   ],
   "source": [
    "\"\"\"\n",
    "Forma sin la variable mult. Para este caso puede no ser necesario\n",
    "\"\"\"\n",
    "\n",
    "numero = 5\n",
    "lista = [3,6,8]\n",
    "for i in lista:\n",
    "    print(\"Número final:\", i*numero)"
   ]
  },
  {
   "cell_type": "code",
   "execution_count": 10,
   "metadata": {},
   "outputs": [
    {
     "name": "stdout",
     "output_type": "stream",
     "text": [
      "Patata\n"
     ]
    }
   ],
   "source": [
    "\"\"\"\n",
    "PENDIENTE: ¿Cómo sería esto mediante el input()? ¿Cómo transformaríamos los inputs en int?\n",
    "\"\"\"\n"
   ]
  },
  {
   "cell_type": "code",
   "execution_count": null,
   "metadata": {},
   "outputs": [],
   "source": [
    "\"\"\"\n",
    "PENDIENTE: List comprehension. Buscar. Es hacer un bucle for, guardando cada resultado en una lista\n",
    "\"\"\"\n",
    "\n",
    "list_2 = [x*var_1 for x in lista_1]\n",
    "print(lista_2)"
   ]
  },
  {
   "cell_type": "code",
   "execution_count": 12,
   "metadata": {},
   "outputs": [
    {
     "name": "stdout",
     "output_type": "stream",
     "text": [
      "0 15\n",
      "1 30\n",
      "2 40\n"
     ]
    }
   ],
   "source": [
    "\"\"\"\n",
    "Forma moviéndonos por posición, no elemento\n",
    "\"\"\"\n",
    "\n",
    "lista = [3,6,8]\n",
    "for i in range(len(lista)): ### range(len(lista)) sólo nos está dando el número de posiciones sobre las que iterar\n",
    "    print(i,lista[i]*numero) ### lista[i] es lo que de verdad está accediendo al elemento (respecto a la **posición** i (no respecto al elemento i))\n",
    "    "
   ]
  },
  {
   "cell_type": "code",
   "execution_count": 14,
   "metadata": {},
   "outputs": [
    {
     "name": "stdout",
     "output_type": "stream",
     "text": [
      "0 15\n",
      "1 30\n",
      "2 40\n"
     ]
    }
   ],
   "source": [
    "\"\"\"Forma con enumerate. Más compacta\"\"\"\n",
    "for i,j in enumerate(lista):\n",
    "    print(i, j*numero)"
   ]
  },
  {
   "cell_type": "markdown",
   "metadata": {},
   "source": [
    "## Ejercicio 5\n",
    "Imprime por pantalla cada número del -10 al -1. En ese orden. Consulta [la documentación](https://www.w3schools.com/python/ref_func_range.asp) de `range`"
   ]
  },
  {
   "cell_type": "code",
   "execution_count": 20,
   "metadata": {},
   "outputs": [
    {
     "name": "stdout",
     "output_type": "stream",
     "text": [
      "-10\n",
      "-9\n",
      "-8\n",
      "-7\n",
      "-6\n",
      "-5\n",
      "-4\n",
      "-3\n",
      "-2\n",
      "-1\n"
     ]
    }
   ],
   "source": [
    "for i in range(-10,0):\n",
    "    print(i)"
   ]
  },
  {
   "cell_type": "code",
   "execution_count": 18,
   "metadata": {},
   "outputs": [
    {
     "data": {
      "text/plain": [
       "[0, 1, 2]"
      ]
     },
     "execution_count": 18,
     "metadata": {},
     "output_type": "execute_result"
    }
   ],
   "source": [
    "\"\"\" Transformar en lista un range para ver todos sus elementos\"\"\"\n",
    "list(range(3))"
   ]
  },
  {
   "cell_type": "markdown",
   "metadata": {},
   "source": [
    "## Ejercicio 6\n",
    "Dada la siguiente lista:\n",
    "\n",
    "> list1 = [12, 15, 32, 42, 55, 75, 122, 132, 150, 180, 200]\n",
    "\n",
    "Implementa un programa que los recorra e imprima por pantalla todos los divisibles por 5. Si nos encontramos con alguno que sea mayor que 150, detener el bucle."
   ]
  },
  {
   "cell_type": "code",
   "execution_count": 22,
   "metadata": {},
   "outputs": [
    {
     "name": "stdout",
     "output_type": "stream",
     "text": [
      "15\n",
      "55\n",
      "75\n",
      "150\n"
     ]
    }
   ],
   "source": [
    "list1 = [12, 15, 32, 42, 55, 75, 122, 132, 150, 180, 200]\n",
    "for i in list1:\n",
    "    if i > 150:\n",
    "        break  ## El uso de break rompe el bucle, pero sólo aquel en el que está dentro\n",
    "    if i % 5 == 0:\n",
    "        print(i)"
   ]
  },
  {
   "cell_type": "code",
   "execution_count": 25,
   "metadata": {},
   "outputs": [
    {
     "name": "stdout",
     "output_type": "stream",
     "text": [
      "15\n",
      "55\n",
      "75\n",
      "150\n",
      "10\n"
     ]
    }
   ],
   "source": [
    "\"\"\" Si quisiéramos que continuara el bucle, obviando los elementos superiores a 150 pero leyendo la lista al completo\"\"\"\n",
    "\n",
    "list1 = [12, 15, 32, 42, 55, 75, 122, 132, 150, 180, 200, 10]\n",
    "for i in list1:\n",
    "    if i > 150:\n",
    "        continue\n",
    "    if i % 5 == 0:\n",
    "        print(i)"
   ]
  },
  {
   "attachments": {},
   "cell_type": "markdown",
   "metadata": {},
   "source": [
    "## Ejercicio 7\n",
    "Escribe un programa en Python que imprima por pantalla todos los números que cumplan que sean divisibles por 5 y divisibles por 7, dentro del rango de valores (150, 350)."
   ]
  },
  {
   "cell_type": "code",
   "execution_count": 17,
   "metadata": {},
   "outputs": [
    {
     "name": "stdout",
     "output_type": "stream",
     "text": [
      "175\n",
      "210\n",
      "245\n",
      "280\n",
      "315\n",
      "350\n"
     ]
    }
   ],
   "source": [
    "for i in range(150,351):\n",
    "    if i % 5 == 0 and i % 7 == 0:\n",
    "        print(i)"
   ]
  },
  {
   "cell_type": "markdown",
   "metadata": {},
   "source": [
    "## Ejercicio 8\n",
    "Implementa un programa que imprima por pantalla el siguiente patrón\n",
    "\n",
    "5 4 3 2 1 \n",
    "\n",
    "4 3 2 1 \n",
    "\n",
    "3 2 1 \n",
    "\n",
    "2 1 \n",
    "\n",
    "1\n",
    "\n",
    "NOTA: NO hay lineas en blanco entre una línea y otra."
   ]
  },
  {
   "cell_type": "code",
   "execution_count": 20,
   "metadata": {},
   "outputs": [
    {
     "name": "stdout",
     "output_type": "stream",
     "text": [
      "Forma con listas\n",
      "[5, 4, 3, 2, 1]\n",
      "[4, 3, 2, 1]\n",
      "[3, 2, 1]\n",
      "[2, 1]\n",
      "[1]\n",
      "Forma con string (Javi)\n",
      "5 4 3 2 1\n",
      "4 3 2 1\n",
      "3 2 1\n",
      "2 1\n",
      "1\n"
     ]
    }
   ],
   "source": [
    "### Forma con listas:\n",
    "print(\"Forma con listas\")\n",
    "list2 = [5,4,3,2,1]\n",
    "for i in list2:\n",
    "    print(list2[5-i:5])\n",
    "\n",
    "print(\"Forma con string (Javi)\")\n",
    "### Forma con string (Javi):\n",
    "str_1 = \"5 4 3 2 1\"\n",
    "len_slicing = 0\n",
    "for i in range(5):\n",
    "    print(str_1[len_slicing:])\n",
    "    len_slicing = len_slicing + 2\n"
   ]
  },
  {
   "cell_type": "code",
   "execution_count": 36,
   "metadata": {},
   "outputs": [
    {
     "name": "stdout",
     "output_type": "stream",
     "text": [
      "5 4 3 2 1\n",
      "4 3 2 1\n",
      "3 2 1\n",
      "2 1\n",
      "1\n"
     ]
    }
   ],
   "source": [
    "\"\"\" Con bucle while, y eligiendo valores de las posiciones\"\"\"\n",
    "lista_8b=list(range(5,0,-1))\n",
    "x=0\n",
    "while x < len(lista_8b): ### Más sostenible que lea el len de la lista\n",
    "    print(*lista_8b[x:]) ### El * nos imprime cada elemento de lo que le demos. Por ejemplo, en un string \"HOLA\" imprimiría H O L A\n",
    "    x = x + 1\n"
   ]
  },
  {
   "cell_type": "code",
   "execution_count": 41,
   "metadata": {},
   "outputs": [
    {
     "name": "stdout",
     "output_type": "stream",
     "text": [
      "5 4 3 2 1\n",
      "4 3 2 1\n",
      "3 2 1\n",
      "2 1\n",
      "1\n"
     ]
    }
   ],
   "source": [
    "\"\"\" Bucle while + pop. Cuidado que perdemos los valores de la lista\"\"\"\n",
    "lista_8c=list(range(5,0,-1))\n",
    "while len(lista_8c) > 0:\n",
    "    print(*lista_8c)\n",
    "    lista_8c.pop(0) ### Este método siempre modifica la lista original"
   ]
  },
  {
   "cell_type": "markdown",
   "metadata": {},
   "source": [
    "## Ejercicio 9\n",
    "En este ejercicio vamos a crear un pequeño juego. Se trata de intentar adivinar un numero del 1 al 5. Tenemos dos intentos para acertar. Pasos a seguir:\n",
    "\n",
    "1. Ya viene implementado con la librería `random` cómo obtener un número aleatorio del 1 al 5\n",
    "2. Tendrás que declarar en una variable el numero de vidas, y mediante un bucle while, comprobar que todavia quedan vidas.\n",
    "3. Dentro del bucle, obtener el valor del usuario y comprobar si es ese el numero a adivinar. Si no, actualizar las vidas.\n",
    "4. Si acertamos, salimos del bucle e imprimimos por pantalla \"You win\". Y si perdemos también salimos del bucle, pero en este caso imprimimos por pantalla \"You lose\".\n",
    "\n",
    "TIP: te puede resultar útil usar la sentencia `else` cuando acabe el bucle `while`. Lo que haya dentro de ese `else` se ejecutará una vez acabe la ejecución del `while`. Lo podrás usar para cuando pierdas."
   ]
  },
  {
   "cell_type": "code",
   "execution_count": 42,
   "metadata": {},
   "outputs": [
    {
     "name": "stdout",
     "output_type": "stream",
     "text": [
      "Tienes 2 vidas\n",
      "Valor incorrecto\n",
      "Tienes 1 vidas\n",
      "You win\n",
      "You lose\n"
     ]
    }
   ],
   "source": [
    "import random\n",
    "vidas = 2\n",
    "aleatorio = random.randint(1,5) #valdría también un random.choice(), dándole un range: random.choice(range(1,6))\n",
    "\n",
    "while vidas > 0:\n",
    "    print(f\"Tienes {vidas} vidas\")\n",
    "    adiv = int(float(input(\"Elige un número entre el 1 y el 5\"))) \n",
    "    if aleatorio == adiv:\n",
    "        print(\"You win\")\n",
    "        break\n",
    "    else:\n",
    "        print(\"Valor incorrecto\")\n",
    "        ### print(\"Tienes que adivinar\", aleatorio) ### Para comprobar el número a adivinar\n",
    "        vidas = vidas - 1\n",
    "else:  ## A los while también se les puede poner un else, una vez se deje de dar la condución del while\n",
    "    print(\"You lose\")        "
   ]
  },
  {
   "cell_type": "code",
   "execution_count": 43,
   "metadata": {},
   "outputs": [],
   "source": [
    "\"\"\"\n",
    "Funciones recursivas: dentro de la misma función ponemos la función, de forma que vuelve a empezar. En este caso, se reinicia la partida cada vez que perdemos\n",
    "\"\"\"\n",
    "\n",
    "def juego():\n",
    "    import random\n",
    "    vidas = 2\n",
    "    aleatorio = random.randint(1,5) #valdría también un random.choice(), dándole un range: random.choice(range(1,6))\n",
    "\n",
    "    while vidas > 0:\n",
    "        print(f\"Tienes {vidas} vidas\")\n",
    "        adiv = int(float(input(\"Elige un número entre el 1 y el 5\"))) \n",
    "        if aleatorio == adiv:\n",
    "            print(\"You win\")\n",
    "            break\n",
    "        else:\n",
    "            print(\"Valor incorrecto\")\n",
    "            ### print(\"Tienes que adivinar\", aleatorio) ### Para comprobar el número a adivinar\n",
    "            vidas = vidas - 1\n",
    "    else:  ## A los while también se les puede poner un else, una vez se deje de dar la condución del while\n",
    "        print(\"You lose\")     \n",
    "        juego() ### Esto hace que vuelva a empezar el juego"
   ]
  },
  {
   "cell_type": "code",
   "execution_count": 44,
   "metadata": {},
   "outputs": [
    {
     "name": "stdout",
     "output_type": "stream",
     "text": [
      "Tienes 2 vidas\n",
      "Valor incorrecto\n",
      "Tienes 1 vidas\n",
      "Valor incorrecto\n",
      "You lose\n",
      "Tienes 2 vidas\n",
      "You win\n"
     ]
    }
   ],
   "source": [
    "\"\"\"Ejecuto el juego, la función que he declarado antes\"\"\"\n",
    "juego()"
   ]
  }
 ],
 "metadata": {
  "kernelspec": {
   "display_name": "Python 3.7.4 64-bit",
   "language": "python",
   "name": "python3"
  },
  "language_info": {
   "codemirror_mode": {
    "name": "ipython",
    "version": 3
   },
   "file_extension": ".py",
   "mimetype": "text/x-python",
   "name": "python",
   "nbconvert_exporter": "python",
   "pygments_lexer": "ipython3",
   "version": "3.12.5"
  },
  "vscode": {
   "interpreter": {
    "hash": "90139cb9a825bf3d63f6f6704e828dbd1ff7edbd4d0c6e906a71235d6efc74af"
   }
  }
 },
 "nbformat": 4,
 "nbformat_minor": 4
}
