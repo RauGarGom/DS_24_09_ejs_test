{
 "cells": [
  {
   "attachments": {},
   "cell_type": "markdown",
   "metadata": {},
   "source": [
    "## Juego del Ahorcado\n",
    "Desarrolla el juego del ahorcado en python. En cada turno irá mostrando por pantalla ```_ _ _ _ _``` las rayas bajas correspondientes al número de letras que tiene la palabra a adivinar. El usuario deberá insertar una letra y, si esa letra existe, se mostrará o mostrarán las letras acertadas ```S _ S _ _``` en sus posiciones correspondientes. \n",
    "\n",
    "Si falla, se mostrará el número de errores que lleva y, si lleva x errores, entonces se mostrará \"Fin del juego\"."
   ]
  },
  {
   "cell_type": "markdown",
   "metadata": {},
   "source": [
    "1. Inicializa el juego: declara una palabra a adivinar y muestra por pantalla la palabra oculta.\n"
   ]
  },
  {
   "cell_type": "markdown",
   "metadata": {},
   "source": [
    "2. Funcionamiento turnos: mediante un bucle genera el sistema de turnos donde el usuario introduce una letra y le va mostrando su progreso y sus vidas."
   ]
  },
  {
   "cell_type": "markdown",
   "metadata": {},
   "source": [
    "\n",
    "```python\n",
    "_ _ _ _ _ _ _ _\n",
    "```"
   ]
  },
  {
   "cell_type": "code",
   "execution_count": 9,
   "metadata": {},
   "outputs": [],
   "source": [
    "### Empezado de cero:\n",
    "def jugar_ahorcado(adiv,lives=5):\n",
    "    #adiv = \"patata\" ###input(\"Palabra a adivinar\") --> Ya no es necesario\n",
    "    ocult = list(\"_\" *len(adiv))\n",
    "    print(\"Palabra oculta: \", *ocult)\n",
    "    #lives = 5 --> Ya no es necesario\n",
    "    while lives > 0:\n",
    "        if \"_\" not in ocult:\n",
    "            print(\"¡Has ganado!\")\n",
    "            break\n",
    "        letter = input(\"Introduce una letra\")\n",
    "        if letter in adiv:\n",
    "            print(\"La letra está en la palabra\")\n",
    "            for i,x in enumerate(adiv):\n",
    "                if letter == x:\n",
    "                    ocult[i] = letter\n",
    "            print(*ocult)\n",
    "        else:\n",
    "            lives -= 1\n",
    "            print(f\"La letra {letter} no está en la palabra. Te quedan {lives} vidas\")\n",
    "    else:\n",
    "        print(\"Has perdido\")\n"
   ]
  },
  {
   "cell_type": "code",
   "execution_count": 10,
   "metadata": {},
   "outputs": [
    {
     "name": "stdout",
     "output_type": "stream",
     "text": [
      "Palabra oculta:  _ _ _ _ _ _ _ _ _ _ _ _\n",
      "La letra está en la palabra\n",
      "P _ _ _ _ _ _ _ _ _ _ _\n",
      "La letra 3 no está en la palabra. Te quedan 4 vidas\n",
      "La letra 5 no está en la palabra. Te quedan 3 vidas\n",
      "La letra está en la palabra\n",
      "P a _ _ a _ a _ a _ _ a\n",
      "La letra está en la palabra\n",
      "P a m _ a _ a m a _ _ a\n",
      "La letra está en la palabra\n",
      "P a m p a _ a m a _ _ a\n",
      "La letra está en la palabra\n",
      "P a m p a r a m a _ _ a\n",
      "La letra está en la palabra\n",
      "P a m p a r a m a n _ a\n",
      "La letra está en la palabra\n",
      "P a m p a r a m a n t a\n",
      "¡Has ganado!\n"
     ]
    }
   ],
   "source": [
    "jugar_ahorcado(\"Pamparamanta\",5)"
   ]
  },
  {
   "cell_type": "code",
   "execution_count": 2,
   "metadata": {},
   "outputs": [
    {
     "name": "stdout",
     "output_type": "stream",
     "text": [
      "['p', 2, 3, 4, 5, 6]\n"
     ]
    }
   ],
   "source": [
    "\n",
    "substitute(\"p\",\"patata\",[1,2,3,4,5,6])\n"
   ]
  },
  {
   "cell_type": "code",
   "execution_count": 7,
   "metadata": {},
   "outputs": [
    {
     "name": "stdout",
     "output_type": "stream",
     "text": [
      "['', '', 2, '']\n"
     ]
    }
   ],
   "source": [
    "lista = [1,2,3,4]\n",
    "otra_lista = [_,_,_,_]\n",
    "otra_lista[2] = 2\n",
    "print(otra_lista)"
   ]
  },
  {
   "cell_type": "code",
   "execution_count": 1,
   "metadata": {},
   "outputs": [
    {
     "name": "stdout",
     "output_type": "stream",
     "text": [
      "Palabra oculta:  _ _ _ _ _ _\n"
     ]
    }
   ],
   "source": [
    "'''[INTENTO 1] No vale, mejor con listas'''\n",
    "\n",
    "adiv = \"patata\" ###input(\"Palabra a adivinar\")\n",
    "ocult = list(\"_\" *len(adiv))\n",
    "print(\"Palabra oculta: \", *ocult)\n",
    "\n"
   ]
  },
  {
   "cell_type": "code",
   "execution_count": 1,
   "metadata": {},
   "outputs": [
    {
     "name": "stdout",
     "output_type": "stream",
     "text": [
      "Palabra oculta:  _ _ _ _ _ _\n",
      "No has acertado. Te quedan 4 vidas\n",
      "No has acertado. Te quedan 3 vidas\n",
      "Has acertado\n",
      "_ a _ a _ a\n",
      "None\n",
      "Has acertado\n",
      "_ a t a t a\n",
      "None\n",
      "No has acertado. Te quedan 2 vidas\n",
      "No has acertado. Te quedan 1 vidas\n",
      "Has acertado\n",
      "p a t a t a\n",
      "None\n",
      "¡Enhorabuena! Has ganado\n"
     ]
    }
   ],
   "source": [
    "'''[INTENTO 1]'''\n",
    "'''TODO: Limar y terminar'''\n",
    "'''TODO: Volver a hacer de cero'''\n",
    "\n",
    "# g_letter = \"a\" ###input(\"¿Qué letra adivinas?\")\n",
    "# for i , x in enumerate(adiv):\n",
    "#     if g_letter == x:\n",
    "#         ocult = ocult.replace(ocult[i],g_letter,1)\n",
    "# print(ocult)\n",
    "adiv = \"patata\" ###input(\"Palabra a adivinar\")\n",
    "ocult = list(\"_\" *len(adiv))\n",
    "print(\"Palabra oculta: \", *ocult)\n",
    "\n",
    "def sustituir_letras_ocultas(g_letter,adiv,ocult):\n",
    "    for i,letter in enumerate(adiv):\n",
    "        if letter == g_letter:\n",
    "            ocult[i] = g_letter\n",
    "    print(*ocult)\n",
    "    # return None\n",
    "\n",
    "\n",
    "\n",
    "'''SOLUCIÓN'''\n",
    "lives = 5\n",
    "while lives > 0:\n",
    "    g_letter = input(\"Introduce una letra\")\n",
    "    if g_letter in adiv:\n",
    "        print(\"Has acertado\")\n",
    "        print(sustituir_letras_ocultas(g_letter,adiv,ocult))\n",
    "        if \"_\" not in ocult:\n",
    "            print('¡Enhorabuena! Has ganado')\n",
    "            break\n",
    "    else:\n",
    "        lives -= 1\n",
    "        print(\"No has acertado. Te quedan\",lives,\"vidas\")\n",
    "if lives == 0:\n",
    "    print(\"¡Has perdido! La palabra era\", adiv)\n"
   ]
  },
  {
   "cell_type": "markdown",
   "metadata": {},
   "source": [
    "3. Desarrolla la finalización de la partida, tanto si gana como si pierde."
   ]
  },
  {
   "cell_type": "code",
   "execution_count": null,
   "metadata": {},
   "outputs": [],
   "source": [
    "def final (adiv, ocult):\n",
    "    if \"_\" not in ocult:\n",
    "        print(\"¡Enhorabuena! Has ganado. La palabra es:\" *adiv)\n",
    "    break"
   ]
  },
  {
   "cell_type": "markdown",
   "metadata": {},
   "source": [
    "4. Encapsula el juego en una función llamada ```jugar_ahorcado()``` con la palabra a adivinar y el número de vidas para seleccionar la dificultad como argumentos de entrada."
   ]
  },
  {
   "cell_type": "code",
   "execution_count": null,
   "metadata": {},
   "outputs": [],
   "source": []
  }
 ],
 "metadata": {
  "kernelspec": {
   "display_name": "Python 3.7.4 64-bit",
   "language": "python",
   "name": "python3"
  },
  "language_info": {
   "codemirror_mode": {
    "name": "ipython",
    "version": 3
   },
   "file_extension": ".py",
   "mimetype": "text/x-python",
   "name": "python",
   "nbconvert_exporter": "python",
   "pygments_lexer": "ipython3",
   "version": "3.12.5"
  },
  "orig_nbformat": 4,
  "vscode": {
   "interpreter": {
    "hash": "90139cb9a825bf3d63f6f6704e828dbd1ff7edbd4d0c6e906a71235d6efc74af"
   }
  }
 },
 "nbformat": 4,
 "nbformat_minor": 2
}
