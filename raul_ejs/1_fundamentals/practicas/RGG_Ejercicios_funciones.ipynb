{
 "cells": [
  {
   "cell_type": "markdown",
   "metadata": {},
   "source": [
    "![imagen](./img/ejercicios.png)"
   ]
  },
  {
   "cell_type": "markdown",
   "metadata": {},
   "source": [
    "# Ejercicios funciones\n",
    "## Ejercicio 1\n",
    "Escribe una función que convierta números del 1 al 7 en nombres de los dias de la semana. La función constará de un único argumento numérico y una salida de tipo string"
   ]
  },
  {
   "cell_type": "code",
   "execution_count": 2,
   "metadata": {},
   "outputs": [
    {
     "data": {
      "text/plain": [
       "'Lunes'"
      ]
     },
     "execution_count": 2,
     "metadata": {},
     "output_type": "execute_result"
    }
   ],
   "source": [
    "### Añadir algún tipo de seguro si no tenemos el número ahí.\n",
    "\n",
    "def num_to_days (num):\n",
    "    conversor = {1: \"Lunes\",2: \"Martes\",3:\"Miércoles\",4: \"Jueves\",5:\"Viernes\",6:\"Sábado\",7:\"Domingo\"}\n",
    "    if num not in conversor:\n",
    "        return(\"Valor incorrecto. Introduce un número del 1 al 7\")\n",
    "    else:\n",
    "        return (conversor[num])\n",
    "\n",
    "num_to_days(1)"
   ]
  },
  {
   "cell_type": "code",
   "execution_count": 6,
   "metadata": {},
   "outputs": [
    {
     "data": {
      "text/plain": [
       "'Lunes'"
      ]
     },
     "execution_count": 6,
     "metadata": {},
     "output_type": "execute_result"
    }
   ],
   "source": [
    "''' Forma alternativa de salvar el error:\n",
    "También, mejor encapsular la respuesta en una variable en el return para convertir la variable local en general:'''\n",
    "\n",
    "def num_to_days (num):\n",
    "    conversor = {1: \"Lunes\",2: \"Martes\",3:\"Miércoles\",4: \"Jueves\",5:\"Viernes\",6:\"Sábado\",7:\"Domingo\"}\n",
    "    day_text = conversor.get(num,\"Número erróneo\")\n",
    "    return (day_text)\n",
    "\n",
    "num_to_days(1)"
   ]
  },
  {
   "cell_type": "markdown",
   "metadata": {},
   "source": [
    "## Ejercicio 2\n",
    "En el ejercicio 8 de flujos de control, creábamos una pirámide invertida de números desde el 5. Crea una función que replique el comportamiento de la pirámide, y utiliza un único parámetro de entrada de la función para determinar el número de filas de la pirámide."
   ]
  },
  {
   "cell_type": "code",
   "execution_count": 17,
   "metadata": {},
   "outputs": [
    {
     "name": "stdout",
     "output_type": "stream",
     "text": [
      "Lista original: [5, 4, 3, 2, 1]\n",
      "5 4 3 2 1\n",
      "4 3 2 1\n",
      "3 2 1\n",
      "2 1\n",
      "1\n"
     ]
    }
   ],
   "source": [
    "def pyramid(num):\n",
    "    num_left = num\n",
    "    num_list = []\n",
    "    x = 0\n",
    "    while num_left > 0:\n",
    "        num_list.append(num_left)\n",
    "        num_left -= 1\n",
    "    print(f\"Lista original: {num_list}\")\n",
    "    while x < len(num_list):\n",
    "        print(*num_list[x:])\n",
    "        x += 1\n",
    "\n",
    "pyramid(abs(int(input(\"Inserta un número\"))))"
   ]
  },
  {
   "cell_type": "code",
   "execution_count": 37,
   "metadata": {},
   "outputs": [
    {
     "name": "stdout",
     "output_type": "stream",
     "text": [
      "10 9 8 7 6 5 4 3 2 1\n",
      "9 8 7 6 5 4 3 2 1\n",
      "8 7 6 5 4 3 2 1\n",
      "7 6 5 4 3 2 1\n",
      "6 5 4 3 2 1\n",
      "5 4 3 2 1\n",
      "4 3 2 1\n",
      "3 2 1\n",
      "2 1\n",
      "1\n"
     ]
    }
   ],
   "source": [
    "''' Otra solución más sencilla: '''\n",
    "\n",
    "def ejer_2(filas):\n",
    "    fila_lista = list(range(filas,0,-1))\n",
    "    while len(fila_lista) > 0:\n",
    "        print(*fila_lista)\n",
    "        fila_lista.pop(0)\n",
    "\n",
    "ejer_2(10)"
   ]
  },
  {
   "cell_type": "markdown",
   "metadata": {},
   "source": [
    "## Ejercicio 3\n",
    "Escribe una función que compare dos números. La función tiene dos argumentos y hay tres salidas posibles: que sean iguales, que el primero sea  mayor que el segundo, o que el segundo sea mayor que el primero"
   ]
  },
  {
   "cell_type": "code",
   "execution_count": 23,
   "metadata": {},
   "outputs": [
    {
     "data": {
      "text/plain": [
       "'50 es mayor que 9'"
      ]
     },
     "execution_count": 23,
     "metadata": {},
     "output_type": "execute_result"
    }
   ],
   "source": [
    "###TODO - Preguntar si se refiere a tres returns posibles o a tres variables diferentes\n",
    "import random as rd\n",
    "def comparison (first,second):\n",
    "    if first > second:\n",
    "        return(f\"{first} es mayor que {second}\")\n",
    "    elif first < second:\n",
    "        return(f\"{first} es menor que {second}\")\n",
    "    elif first == second:\n",
    "        return(f\"{first} es igual a {second}\")\n",
    "\n",
    "comparison(rd.randint(0,100),rd.randint(0,100))"
   ]
  },
  {
   "cell_type": "code",
   "execution_count": 34,
   "metadata": {},
   "outputs": [
    {
     "data": {
      "text/plain": [
       "'1.35 es mayor que 1'"
      ]
     },
     "execution_count": 34,
     "metadata": {},
     "output_type": "execute_result"
    }
   ],
   "source": [
    "''' \n",
    "Intentar siempre encapsular la salida en una variable local, de forma que lo podamos convertir a una variable global\n",
    "También, puedo dar valores por defecto a los argumentos para evitar que dé error por no mandar los suficientes\n",
    "Además, minimizar los return para asegurarnos de saber rápidamente cuál es el return de la función\n",
    "Por último, también podemos forzar el valor de \n",
    "'''\n",
    "\n",
    "def comparison (first:int | float = 1,second:int | float = 1): ### Con el | podemos añadir una condición or (ver abajo). Le pedimos ser int o float a la entrada.\n",
    "    if first > second:\n",
    "        out = (f\"{first} es mayor que {second}\")\n",
    "    elif first < second:\n",
    "        out = (f\"{first} es menor que {second}\")\n",
    "    elif first == second:\n",
    "        out = (f\"{first} es igual a {second}\")\n",
    "    return out\n",
    "\n",
    "comparison(1.35)"
   ]
  },
  {
   "cell_type": "code",
   "execution_count": null,
   "metadata": {},
   "outputs": [],
   "source": [
    "''' Condicionantes por símbolos en lugar de palabras'''\n",
    "\n",
    "# | = or\n",
    "# & = and\n",
    "# ~ = not"
   ]
  },
  {
   "attachments": {},
   "cell_type": "markdown",
   "metadata": {},
   "source": [
    "## Ejercicio 4\n",
    "Escribe una función que sea un contador de letras. En el primer argumento tienes que introducir un texto, y el segundo que sea una letra que contar. La función tiene que devolver un entero con el número de veces que aparece esa letra, tanto mayúscula, como minúscula"
   ]
  },
  {
   "cell_type": "code",
   "execution_count": 40,
   "metadata": {},
   "outputs": [
    {
     "name": "stdout",
     "output_type": "stream",
     "text": [
      "La letra \"E\" aparece 6 veces en el texto \"Texto supEr largo en el quE hay Muchas LETRAS\"\n",
      "La letra \"e\" aparece 6 veces en el texto \"Texto supEr largo en el quE hay Muchas LETRAS\"\n"
     ]
    }
   ],
   "source": [
    "def counter(text,letter):\n",
    "    result = 0\n",
    "    text_low = text.lower()\n",
    "    letter_low = letter.lower()\n",
    "    for x in text_low:\n",
    "        if x == letter_low:\n",
    "            result += 1\n",
    "    return(f'La letra \"{letter}\" aparece {result} veces en el texto \"{text}\"')\n",
    "print(counter(\"Texto supEr largo en el quE hay Muchas LETRAS\",\"E\"))\n",
    "print(counter(\"Texto supEr largo en el quE hay Muchas LETRAS\",\"e\"))"
   ]
  },
  {
   "cell_type": "code",
   "execution_count": 41,
   "metadata": {},
   "outputs": [
    {
     "data": {
      "text/plain": [
       "5"
      ]
     },
     "execution_count": 41,
     "metadata": {},
     "output_type": "execute_result"
    }
   ],
   "source": [
    "''' \n",
    "Si utilizamos un count pues a lo mejor no nos queda un código kilométrico\n",
    "Añadimos también un reemplazador de tildes\n",
    "'''\n",
    "\n",
    "def counter_2(text,letter):\n",
    "    text_low = text.lower()\n",
    "    letter_low = letter.lower()\n",
    "    dict_vocales = { \"á\":\"a\",\n",
    "                   \"é\":\"e\",\n",
    "                   \"í\":\"i\",\n",
    "                   \"ó\":\"o\",\n",
    "                   \"ú\":\"u\"}\n",
    "    for clave in dict_vocales:\n",
    "            text_low = text_low.replace(clave,dict_vocales[clave])\n",
    "    return text_low.count(letter_low)\n",
    "\n",
    "counter_2(\"Tremendísima Frase Que Estoi EscrIbiendo\",\"I\")\n"
   ]
  },
  {
   "cell_type": "markdown",
   "metadata": {},
   "source": [
    "## Ejercicio 5\n",
    "Escribe una función que tenga un único argumento, un string. La salida de la función tiene que ser un diccionario con el conteo de todas las letras de ese string, siendo la clave la letra y el valor el conteo."
   ]
  },
  {
   "cell_type": "code",
   "execution_count": 42,
   "metadata": {},
   "outputs": [
    {
     "data": {
      "text/plain": [
       "{'b': 4, 'a': 5, 's': 2, 'j': 1, 'd': 2}"
      ]
     },
     "execution_count": 42,
     "metadata": {},
     "output_type": "execute_result"
    }
   ],
   "source": [
    "def word_count(text):\n",
    "    counter_5 = {}\n",
    "    for x in text:\n",
    "        if x not in counter_5:\n",
    "            counter_5[x] = 1\n",
    "        else:\n",
    "            counter_5[x] += 1\n",
    "    return(counter_5)\n",
    "word_count(str(input(\"Introduce un texto\")))"
   ]
  },
  {
   "cell_type": "code",
   "execution_count": 51,
   "metadata": {},
   "outputs": [
    {
     "data": {
      "text/plain": [
       "{'E': 1,\n",
       " 's': 3,\n",
       " 't': 2,\n",
       " 'o': 5,\n",
       " 'e': 11,\n",
       " 'i': 4,\n",
       " 'n': 4,\n",
       " 'f': 1,\n",
       " 'c': 2,\n",
       " 'p': 2,\n",
       " 'r': 4,\n",
       " 'q': 3,\n",
       " 'u': 2,\n",
       " 'y': 1,\n",
       " 'a': 5,\n",
       " 'h': 1,\n",
       " 'd': 2,\n",
       " 'l': 2,\n",
       " 'ú': 1,\n",
       " 'm': 2,\n",
       " 'v': 1,\n",
       " 'z': 1}"
      ]
     },
     "execution_count": 51,
     "metadata": {},
     "output_type": "execute_result"
    }
   ],
   "source": [
    "''' De nuevo, un count lo hace todo más sencillo'''\n",
    "\n",
    "text_5 = \"Hola mundo, cómo están\"\n",
    "dict_conteo = {}\n",
    "for caracter in text_5:\n",
    "    dict_conteo[caracter] = text_5.count(caracter)\n",
    "\n",
    "dict_conteo\n",
    "\n",
    "''' Esto es ineficiente, porque ya se ha quedado con el número la primera vez que se encuentra la letra. Podemos quedarnos \n",
    "con el dato simplemente cuando encuentre por primera vez la letra\n",
    "'''\n",
    "def word_count_2(text_5):\n",
    "    dict_2 = {}\n",
    "    for caracter in text_5:\n",
    "        if caracter not in dict_2 and caracter not in [\" \", \",\"]: ### Con la última condición nos quitamos los espacios y las comas\n",
    "            dict_2[caracter] = text_5.count(caracter)\n",
    "    return dict_2\n",
    "\n",
    "word_count_2(\"Esto es ineficiente, porque ya se ha quedado con el número la primera vez q\")"
   ]
  },
  {
   "cell_type": "markdown",
   "metadata": {},
   "source": [
    "## Ejercicio 6\n",
    "Escribir una función que añada o elimine elementos en una lista. La función necesita los siguientes argumentos:\n",
    "* lista: la lista donde se añadirán o eliminarán los elementos\n",
    "* comando: \"add\" o \"remove\"\n",
    "* elemento: Por defecto es None.\n",
    "\n",
    "Tendrá como salida la lista"
   ]
  },
  {
   "cell_type": "code",
   "execution_count": 52,
   "metadata": {},
   "outputs": [
    {
     "name": "stdout",
     "output_type": "stream",
     "text": [
      "El elemento no se encuentra en la lista\n"
     ]
    }
   ],
   "source": [
    "###TODO: ¿Qué queréis que haga con el None?\n",
    "def modifier(in_list,in_command,in_element = None):\n",
    "    if in_element == None:\n",
    "        return(\"No hay elementos a agregar o eliminar\")\n",
    "    elif in_command == \"add\":\n",
    "        in_list.append(in_element)\n",
    "        return (print(in_list))\n",
    "    elif in_command == \"remove\":\n",
    "        try:\n",
    "            in_list.remove(in_element)\n",
    "            return(print(in_list))\n",
    "        except:\n",
    "            print(\"El elemento no se encuentra en la lista\") ### Con todo esto nos aseguramos de que no dé error si el elemento no se encuentra en la lista\n",
    "\n",
    "\n",
    "\n",
    "modifier([1,2,\"hola\"],\"remove\",5)\n",
    "    "
   ]
  },
  {
   "cell_type": "markdown",
   "metadata": {},
   "source": [
    "## Ejercicio 7\n",
    "Crea una función que reciba un número arbitrario de palabras, y devuelva una frase completa, separando las palabras con espacios."
   ]
  },
  {
   "cell_type": "code",
   "execution_count": 61,
   "metadata": {},
   "outputs": [
    {
     "data": {
      "text/plain": [
       "'hola, esto es una frase'"
      ]
     },
     "execution_count": 61,
     "metadata": {},
     "output_type": "execute_result"
    }
   ],
   "source": [
    "def sentencer(*args):\n",
    "    sentence = \"\"\n",
    "    for x in args:\n",
    "        sentence += x + \" \"\n",
    "    sentence = sentence [:-1] ### Se me olvidó terminar esto jij\n",
    "    return(sentence)\n",
    "sentencer(\"hola,\",\"esto\",\"es\",\"una\",\"frase\")"
   ]
  },
  {
   "cell_type": "code",
   "execution_count": 56,
   "metadata": {},
   "outputs": [
    {
     "data": {
      "text/plain": [
       "'hola, esto es una frase'"
      ]
     },
     "execution_count": 56,
     "metadata": {},
     "output_type": "execute_result"
    }
   ],
   "source": [
    "''' Solución eficiente:'''\n",
    "def ejer_7 (*args):\n",
    "    return \" \".join(args)\n",
    "\n",
    "ejer_7(\"hola,\",\"esto\",\"es\",\"una\",\"frase\")"
   ]
  },
  {
   "cell_type": "markdown",
   "metadata": {},
   "source": [
    "## Ejercicio 8\n",
    "Escribe un programa que obtenga el enésimo número de la [serie de Fibonacci](https://es.wikipedia.org/wiki/Sucesi%C3%B3n_de_Fibonacci). Tienes que crear una función recursiva con un único argumento.\n",
    "\n",
    "```Python\n",
    "fibonacci(2) = 1\n",
    "fibonacci(4) = 3\n",
    "fibonacci(5) = 5\n",
    "fibonacci(8) = 21\n",
    "```"
   ]
  },
  {
   "cell_type": "markdown",
   "metadata": {},
   "source": [
    "fibonacci(n) = fibonacci(n-1) + fibonacci(n-2)"
   ]
  },
  {
   "cell_type": "code",
   "execution_count": 77,
   "metadata": {},
   "outputs": [
    {
     "name": "stdout",
     "output_type": "stream",
     "text": [
      "8\n",
      "610\n"
     ]
    }
   ],
   "source": [
    "\n",
    "\n",
    "def fib(num):\n",
    "    if num == 0:\n",
    "        return 0\n",
    "    if num == 1:\n",
    "        return 1\n",
    "    else:\n",
    "        return fib(num-1) + fib(num-2)\n",
    "\n",
    "print(fib(6))\n",
    "print(fib(15))\n",
    "\n"
   ]
  },
  {
   "cell_type": "code",
   "execution_count": 65,
   "metadata": {},
   "outputs": [
    {
     "name": "stdout",
     "output_type": "stream",
     "text": [
      "8\n",
      "610\n"
     ]
    },
    {
     "ename": "KeyboardInterrupt",
     "evalue": "",
     "output_type": "error",
     "traceback": [
      "\u001b[1;31m---------------------------------------------------------------------------\u001b[0m",
      "\u001b[1;31mKeyboardInterrupt\u001b[0m                         Traceback (most recent call last)",
      "Cell \u001b[1;32mIn[65], line 9\u001b[0m\n\u001b[0;32m      7\u001b[0m \u001b[38;5;28mprint\u001b[39m(fib(\u001b[38;5;241m6\u001b[39m))\n\u001b[0;32m      8\u001b[0m \u001b[38;5;28mprint\u001b[39m(fib(\u001b[38;5;241m15\u001b[39m))\n\u001b[1;32m----> 9\u001b[0m \u001b[43mfib\u001b[49m\u001b[43m(\u001b[49m\u001b[38;5;241;43m50\u001b[39;49m\u001b[43m)\u001b[49m\n",
      "Cell \u001b[1;32mIn[65], line 6\u001b[0m, in \u001b[0;36mfib\u001b[1;34m(num)\u001b[0m\n\u001b[0;32m      4\u001b[0m     \u001b[38;5;28;01mreturn\u001b[39;00m num\n\u001b[0;32m      5\u001b[0m \u001b[38;5;28;01melse\u001b[39;00m:\n\u001b[1;32m----> 6\u001b[0m     \u001b[38;5;28;01mreturn\u001b[39;00m \u001b[43mfib\u001b[49m\u001b[43m(\u001b[49m\u001b[43mnum\u001b[49m\u001b[38;5;241;43m-\u001b[39;49m\u001b[38;5;241;43m1\u001b[39;49m\u001b[43m)\u001b[49m \u001b[38;5;241m+\u001b[39m fib(num\u001b[38;5;241m-\u001b[39m\u001b[38;5;241m2\u001b[39m)\n",
      "Cell \u001b[1;32mIn[65], line 6\u001b[0m, in \u001b[0;36mfib\u001b[1;34m(num)\u001b[0m\n\u001b[0;32m      4\u001b[0m     \u001b[38;5;28;01mreturn\u001b[39;00m num\n\u001b[0;32m      5\u001b[0m \u001b[38;5;28;01melse\u001b[39;00m:\n\u001b[1;32m----> 6\u001b[0m     \u001b[38;5;28;01mreturn\u001b[39;00m \u001b[43mfib\u001b[49m\u001b[43m(\u001b[49m\u001b[43mnum\u001b[49m\u001b[38;5;241;43m-\u001b[39;49m\u001b[38;5;241;43m1\u001b[39;49m\u001b[43m)\u001b[49m \u001b[38;5;241m+\u001b[39m fib(num\u001b[38;5;241m-\u001b[39m\u001b[38;5;241m2\u001b[39m)\n",
      "    \u001b[1;31m[... skipping similar frames: fib at line 6 (35 times)]\u001b[0m\n",
      "Cell \u001b[1;32mIn[65], line 6\u001b[0m, in \u001b[0;36mfib\u001b[1;34m(num)\u001b[0m\n\u001b[0;32m      4\u001b[0m     \u001b[38;5;28;01mreturn\u001b[39;00m num\n\u001b[0;32m      5\u001b[0m \u001b[38;5;28;01melse\u001b[39;00m:\n\u001b[1;32m----> 6\u001b[0m     \u001b[38;5;28;01mreturn\u001b[39;00m \u001b[43mfib\u001b[49m\u001b[43m(\u001b[49m\u001b[43mnum\u001b[49m\u001b[38;5;241;43m-\u001b[39;49m\u001b[38;5;241;43m1\u001b[39;49m\u001b[43m)\u001b[49m \u001b[38;5;241m+\u001b[39m fib(num\u001b[38;5;241m-\u001b[39m\u001b[38;5;241m2\u001b[39m)\n",
      "Cell \u001b[1;32mIn[65], line 2\u001b[0m, in \u001b[0;36mfib\u001b[1;34m(num)\u001b[0m\n\u001b[0;32m      1\u001b[0m \u001b[38;5;124;03m''' Esto queda un poquito mejor'''\u001b[39;00m\n\u001b[1;32m----> 2\u001b[0m \u001b[38;5;28;01mdef\u001b[39;00m \u001b[38;5;21mfib\u001b[39m(num):\n\u001b[0;32m      3\u001b[0m     \u001b[38;5;28;01mif\u001b[39;00m num \u001b[38;5;241m==\u001b[39m \u001b[38;5;241m0\u001b[39m \u001b[38;5;129;01mor\u001b[39;00m num \u001b[38;5;241m==\u001b[39m \u001b[38;5;241m1\u001b[39m:\n\u001b[0;32m      4\u001b[0m         \u001b[38;5;28;01mreturn\u001b[39;00m num\n",
      "\u001b[1;31mKeyboardInterrupt\u001b[0m: "
     ]
    }
   ],
   "source": [
    "''' Esto queda un poquito mejor'''\n",
    "def fib(num):\n",
    "    if num == 0 or num == 1:\n",
    "        return num\n",
    "    else:\n",
    "        return fib(num-1) + fib(num-2)\n",
    "print(fib(6))\n",
    "print(fib(15))\n",
    "fib(50)"
   ]
  },
  {
   "attachments": {},
   "cell_type": "markdown",
   "metadata": {},
   "source": [
    "## Ejercicio 9\n",
    "Define en una única celda las siguientes funciones:\n",
    "* Función que calcule el área de un cuadrado\n",
    "* Función que calcule el área de un triángulo\n",
    "* Función que calcule el área de un círculo\n",
    "\n",
    "En otra celda, calcular el area de:\n",
    "* Dos círculos de radio 10 + un triángulo de base 3 y altura 7\n",
    "* Un cuadrado de lado = 10 + 3 círculos (uno de radio = 4 y los otros dos de radio = 6) + 5 triángulos de base = 2 + altura = 4"
   ]
  },
  {
   "cell_type": "code",
   "execution_count": 71,
   "metadata": {},
   "outputs": [],
   "source": [
    "def sq_area(len_sq):\n",
    "    return(len_sq**2)\n",
    "def tr_area(base_tr,height_tr):\n",
    "    return(base_tr*height_tr/2)\n",
    "def cr_area(rad_cr):\n",
    "    import math\n",
    "    pi = math.pi ### No es necesario, se podría haber puesto directamente math.pi\n",
    "    return(round(pi*rad_cr**2))"
   ]
  },
  {
   "cell_type": "code",
   "execution_count": 72,
   "metadata": {},
   "outputs": [
    {
     "name": "stdout",
     "output_type": "stream",
     "text": [
      "64\n",
      "9.0\n",
      "79\n"
     ]
    }
   ],
   "source": [
    "### Test\n",
    "print(sq_area(8))\n",
    "print(tr_area(6,3))\n",
    "print(cr_area(5))"
   ]
  },
  {
   "cell_type": "code",
   "execution_count": 73,
   "metadata": {},
   "outputs": [
    {
     "name": "stdout",
     "output_type": "stream",
     "text": [
      "1.- Área de los dos círculos (r=5) + triángulo (b=3, h=7)=  638.5\n",
      "2.- Área de lo que pide ahí =  396.0\n"
     ]
    }
   ],
   "source": [
    "print(\"1.- Área de los dos círculos (r=5) + triángulo (b=3, h=7)= \",2*cr_area(10)+tr_area(3,7))\n",
    "print(\"2.- Área de lo que pide ahí = \", sq_area(10)+cr_area(4)+2*cr_area(6)+5*tr_area(2,4))"
   ]
  },
  {
   "cell_type": "markdown",
   "metadata": {},
   "source": [
    "## Ejercicio 10\n",
    "\n",
    "Guarda las funciones de estos ejercicios en un fichero llamado `funciones.py` e importalas desde este jupyter notebook para probar que puedes hacer uso de ellas."
   ]
  },
  {
   "cell_type": "code",
   "execution_count": 2,
   "metadata": {},
   "outputs": [
    {
     "name": "stdout",
     "output_type": "stream",
     "text": [
      "Jueves\n"
     ]
    }
   ],
   "source": [
    "'''\n",
    "Si el archivo no estuviera en la misma ruta del archivo que estamos ejecutando, debemos utilizar from. \n",
    "Si estuviera en la carpeta ejemplo_ruta:\n",
    "'''\n",
    "from ejemplo_ruta import rgg_funciones as er\n",
    "print(er.num_to_days(4))"
   ]
  },
  {
   "cell_type": "code",
   "execution_count": 1,
   "metadata": {},
   "outputs": [
    {
     "name": "stdout",
     "output_type": "stream",
     "text": [
      "Ej 1\n",
      "Jueves\n",
      "_____\n",
      "Ej 2\n",
      "Lista original: [10, 9, 8, 7, 6, 5, 4, 3, 2, 1]\n",
      "10 9 8 7 6 5 4 3 2 1\n",
      "9 8 7 6 5 4 3 2 1\n",
      "8 7 6 5 4 3 2 1\n",
      "7 6 5 4 3 2 1\n",
      "6 5 4 3 2 1\n",
      "5 4 3 2 1\n",
      "4 3 2 1\n",
      "3 2 1\n",
      "2 1\n",
      "1\n",
      "None\n",
      "_____\n",
      "Ej 3\n",
      "1 es menor que 2\n",
      "_____\n",
      "Ej 4\n",
      "La letra \"a\" aparece 4 veces en el texto \"Rapapampam\"\n",
      "_____\n",
      "Ej 5\n",
      "{'R': 1, 'a': 4, 'p': 3, 'm': 2}\n",
      "_____\n",
      "Ej 6\n",
      "['hola', 35, False]\n",
      "None\n",
      "_____\n",
      "Ej 7\n",
      "y esto es otra frase \n",
      "_____\n",
      "Ej 8\n",
      "3\n",
      "_____\n",
      "Ej 9\n",
      "4 6.0 314\n",
      "_____\n"
     ]
    }
   ],
   "source": [
    "###OJO: El archivo se llama \"rgg_funciones.py\"\n",
    "\n",
    "import rgg_funciones as fn\n",
    "\n",
    "print(\"Ej 1\")\n",
    "print(fn.num_to_days(4))\n",
    "print(\"_____\")\n",
    "print(\"Ej 2\")\n",
    "print(fn.pyramid(10))\n",
    "print(\"_____\")\n",
    "print(\"Ej 3\")\n",
    "print(fn.comparison(1,2))\n",
    "print(\"_____\")\n",
    "print(\"Ej 4\")\n",
    "print(fn.counter(\"Rapapampam\",\"a\"))\n",
    "print(\"_____\")\n",
    "print(\"Ej 5\")\n",
    "print(fn.word_count(\"Rapapampam\"))\n",
    "print(\"_____\")\n",
    "print(\"Ej 6\")\n",
    "print(fn.modifier([\"hola\",\"adios\",35,False],\"remove\",\"adios\"))\n",
    "print(\"_____\")\n",
    "print(\"Ej 7\")\n",
    "print(fn.sentencer(\"y\",\"esto\",\"es\",\"otra\",\"frase\"))\n",
    "print(\"_____\")\n",
    "print(\"Ej 8\")\n",
    "print(fn.fib(4))\n",
    "print(\"_____\")\n",
    "print(\"Ej 9\")\n",
    "print(fn.sq_area(2),fn.tr_area(3,4),fn.cr_area(10))\n",
    "print(\"_____\")"
   ]
  },
  {
   "cell_type": "code",
   "execution_count": null,
   "metadata": {},
   "outputs": [],
   "source": [
    "''' Si'''"
   ]
  }
 ],
 "metadata": {
  "kernelspec": {
   "display_name": "Python 3.7.4 64-bit",
   "language": "python",
   "name": "python3"
  },
  "language_info": {
   "codemirror_mode": {
    "name": "ipython",
    "version": 3
   },
   "file_extension": ".py",
   "mimetype": "text/x-python",
   "name": "python",
   "nbconvert_exporter": "python",
   "pygments_lexer": "ipython3",
   "version": "3.12.5"
  },
  "vscode": {
   "interpreter": {
    "hash": "90139cb9a825bf3d63f6f6704e828dbd1ff7edbd4d0c6e906a71235d6efc74af"
   }
  }
 },
 "nbformat": 4,
 "nbformat_minor": 4
}
