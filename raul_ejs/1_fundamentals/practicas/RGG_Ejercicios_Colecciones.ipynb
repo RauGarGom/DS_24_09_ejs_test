{
 "cells": [
  {
   "cell_type": "markdown",
   "metadata": {},
   "source": [
    "![imagen](./img/ejercicios.png)"
   ]
  },
  {
   "cell_type": "markdown",
   "metadata": {},
   "source": [
    "## Ejercicio 1\n",
    "Dada la siguiente lista:\n",
    "> ```ejer_1 = [1,2,3,4,5]```\n",
    "\n",
    "Inviértela para que quede de la siguiente manera\n",
    "> ```ejer_1 = [5,4,3,2,1]```"
   ]
  },
  {
   "cell_type": "code",
   "execution_count": 3,
   "metadata": {},
   "outputs": [
    {
     "name": "stdout",
     "output_type": "stream",
     "text": [
      "[5, 4, 3, 2, 1]\n"
     ]
    }
   ],
   "source": [
    "ejer_1 = [1,2,3,4,5]\n",
    "ejer_1.sort(reverse = True) ## Se podría hacer con un ejer_1.reverse(). No hace sort, simplemente invierte el orden de los elementos de la lista.\n",
    "print(ejer_1)"
   ]
  },
  {
   "cell_type": "code",
   "execution_count": 25,
   "metadata": {},
   "outputs": [
    {
     "name": "stdout",
     "output_type": "stream",
     "text": [
      "[5, 4, 3, 2, 1]\n",
      "[5, 4, 3, 2, 1]\n"
     ]
    }
   ],
   "source": [
    "'''Con método reverse'''\n",
    "ejer_1 = [1,2,3,4,5]\n",
    "ejer_1.reverse()\n",
    "print(ejer_1)\n",
    "\n",
    "'''Con clase reversed'''\n",
    "ejer_1 = [1,2,3,4,5]\n",
    "ejer_1 = list(reversed(ejer_1))\n",
    "print(ejer_1)"
   ]
  },
  {
   "cell_type": "code",
   "execution_count": 24,
   "metadata": {},
   "outputs": [
    {
     "name": "stdout",
     "output_type": "stream",
     "text": [
      "[1, 2, 3, 4, 5]\n",
      "[5, 4, 3, 2, 1]\n",
      "[5, 4, 3, 2, 1]\n",
      "[5, 4, 3, 2, 1]\n"
     ]
    }
   ],
   "source": [
    "'''Con función sorted'''\n",
    "ejer_1 = [1,2,3,4,5]\n",
    "print(sorted(ejer_1))\n",
    "\n",
    "'''Forma con slicing'''\n",
    "\n",
    "ejer_1 = [1,2,3,4,5]\n",
    "print(ejer_1[5::-1])\n",
    "\n",
    "'''También valen:'''\n",
    "ejer_1 = [1,2,3,4,5]\n",
    "print(ejer_1[::-1])\n",
    "ejer_1 = [1,2,3,4,5]\n",
    "print(ejer_1[-1:-6:-1])\n",
    "\n",
    "### sort y sorted sólo valen para este ejercicio concreto, porque coincide que están en orden. Para invertir cualquier lista sería mejor el slicing o el reverse"
   ]
  },
  {
   "cell_type": "markdown",
   "metadata": {},
   "source": [
    "## Ejercicio 3\n",
    "Crea una lista nueva con todas las combinaciones de las siguientes dos listas:\n",
    "> ```ejer_3_1 = [\"Hola\", \"amigo\"]```\n",
    ">\n",
    "> ```ejer_3_2 = [\"Que\", \"tal\"]```\n",
    "\n",
    "Obten el siguiente output:\n",
    "\n",
    "```['Hola Que', 'Hola tal', 'amigo Que', 'amigo tal']```"
   ]
  },
  {
   "cell_type": "code",
   "execution_count": 144,
   "metadata": {},
   "outputs": [
    {
     "name": "stdout",
     "output_type": "stream",
     "text": [
      "['Hola Que', 'Hola tal', 'amigo Que', 'amigo tal']\n"
     ]
    }
   ],
   "source": [
    "ejer_3_1 = [\"Hola\", \"amigo\"]\n",
    "ejer_3_2 = [\"Que\", \"tal\"]\n",
    "ejer_3_3 = []\n",
    "for x in ejer_3_1:\n",
    "    for y in ejer_3_2:\n",
    "        ejer_3_3.append(x+ \" \" + y)\n",
    "print(ejer_3_3)"
   ]
  },
  {
   "cell_type": "code",
   "execution_count": 29,
   "metadata": {},
   "outputs": [
    {
     "name": "stdout",
     "output_type": "stream",
     "text": [
      "['Holaamigo', 'Quetal']\n"
     ]
    }
   ],
   "source": [
    "'''Pruebas, está mal'''\n",
    "\n",
    "ejer_3_1 = [\"Hola\", \"amigo\",]\n",
    "ejer_3_2 = [\"Que\", \"tal\"]\n",
    "ejer_3_3 = []\n",
    "\n",
    "for x,y in ejer_3_1, ejer_3_2:\n",
    "    ejer_3_3.append(x+y)\n",
    "print(ejer_3_3)"
   ]
  },
  {
   "attachments": {},
   "cell_type": "markdown",
   "metadata": {},
   "source": [
    "## Ejercicio 4\n",
    "Dada la siguiente lista, encuentra por el índice el valor 45 y sustitúyelo por el 0\n",
    "> ```ejer_4 = [20, 47, 19, 29, 45, 67, 78, 90]```"
   ]
  },
  {
   "cell_type": "code",
   "execution_count": 31,
   "metadata": {},
   "outputs": [
    {
     "name": "stdout",
     "output_type": "stream",
     "text": [
      "[20, 47, 19, 29, 0, 67, 78, 90]\n"
     ]
    }
   ],
   "source": [
    "ejer_4 = [20, 47, 19, 29, 45, 67, 78, 90]\n",
    "ejer_4[ejer_4.index(45)]=0\n",
    "print(ejer_4)\n",
    "\n"
   ]
  },
  {
   "cell_type": "code",
   "execution_count": 32,
   "metadata": {},
   "outputs": [
    {
     "name": "stdout",
     "output_type": "stream",
     "text": [
      "[20, 47, 19, 29, 0, 67, 0, 90]\n",
      "[20, 47, 19, 29, 0, 67, 0, 90]\n"
     ]
    }
   ],
   "source": [
    "'''Si tuviéramos más de un 45 en la lista'''\n",
    "## Bucle for\n",
    "ejer_4 = [20, 47, 19, 29, 45, 67, 45, 90]\n",
    "for i,x in enumerate(ejer_4):\n",
    "    if x == 45:\n",
    "        ejer_4[i] = 0\n",
    "print(ejer_4)\n",
    "\n",
    "## Bucle while. Más eficiente, ya que no busca en cada uno de los elementos si hay un 45. Simplemente pasa al siguiente elemento.\n",
    "ejer_4 = [20, 47, 19, 29, 45, 67, 45, 90]\n",
    "while 45 in ejer_4:\n",
    "    ejer_4[ejer_4.index(45)]=0\n",
    "print(ejer_4)"
   ]
  },
  {
   "cell_type": "markdown",
   "metadata": {},
   "source": [
    "## Ejercicio 5\n",
    "Dada la siguiente lista, elimina todos los valores iguales a 3\n",
    "> ```ejer_5 = [3, 20, 3, 47, 19, 3, 29, 45, 67, 78, 90, 3, 3]```\n",
    "\n",
    "TIP: No intentes eliminar elementos sobre la lista que estás iterando. Haz una copia con `ejer_5.copy()`."
   ]
  },
  {
   "cell_type": "code",
   "execution_count": 43,
   "metadata": {},
   "outputs": [
    {
     "name": "stdout",
     "output_type": "stream",
     "text": [
      "[20, 47, 19, 29, 45, 67, 78, 90]\n",
      "[20, 47, 19, 29, 45, 67, 78, 90]\n",
      "[20, 47, 19, 29, 45, 67, 78, 90]\n",
      "[20, 47, 19, 29, 45, 67, 78, 90]\n",
      "[20, 47, 19, 29, 45, 67, 78, 90]\n"
     ]
    }
   ],
   "source": [
    "''' \n",
    "El truco aquí es que si hacemos el for iterando sobre la misma lista que estamos borrando, se quedará sin elementos que mostrar porque\n",
    "le estoy quitando posiciones. Iteramos sobre la original, modificamos sobre la copia.\n",
    "\n",
    "'''\n",
    "\n",
    "ejer_5 = [3, 20, 3, 47, 19, 3, 29, 45, 67, 78, 90, 3, 3]\n",
    "ejer_5_copy = ejer_5.copy()\n",
    "for i,x in enumerate(ejer_5): ### No es necesario el enumerate. Abajo solución sin él.\n",
    "    if x == 3:\n",
    "        ejer_5_copy.remove(x)\n",
    "print(ejer_5_copy)\n",
    "\n",
    "ejer_5 = [3, 20, 3, 47, 19, 3, 29, 45, 67, 78, 90, 3, 3]\n",
    "ejer_5_copy_2 = ejer_5.copy()\n",
    "for x in ejer_5:\n",
    "    if x == 3:\n",
    "        ejer_5_copy_2.remove(x)\n",
    "print(ejer_5_copy_2)\n",
    "\n",
    "''' Forma más sencilla, con menos código'''\n",
    "ejer_5 = [3, 20, 3, 47, 19, 3, 29, 45, 67, 78, 90, 3, 3]\n",
    "for x in ejer_5.copy():\n",
    "    if x == 3:\n",
    "        ejer_5.remove(x)\n",
    "print(ejer_5)\n",
    "\n",
    "''' Con un while'''\n",
    "ejer_5 = [3, 20, 3, 47, 19, 3, 29, 45, 67, 78, 90, 3, 3]\n",
    "while 3 in ejer_5:\n",
    "    ejer_5.remove(3)\n",
    "print(ejer_5)\n",
    "\n",
    "''''¿Tupla?'''\n",
    "ejer_5 = [3, 20, 3, 47, 19, 3, 29, 45, 67, 78, 90, 3, 3]\n",
    "for x in tuple(ejer_5): ### Pero no es por hacerlo tupla, sino porque realmente estoy haciendo una copia. Si lo convirtiera en list pasaría lo mismo.\n",
    "    if x == 3:\n",
    "        ejer_5.remove(x)\n",
    "print(ejer_5)"
   ]
  },
  {
   "attachments": {},
   "cell_type": "markdown",
   "metadata": {},
   "source": [
    "## Ejercicio 6\n",
    "1. Crea una tupla con 3 elementos\n",
    "2. Crea otra tupla con un elemento y comprueba su tipo\n",
    "3. Crea una tupla con elementos de diferentes tipos\n",
    "4. Imprime por pantalla el primer y último elemento de la tupla del apartado 3. Usa `len` para el último\n",
    "5. Añade un elemento a la tupla del apartado 3.\n",
    "6. Eliminar un elemento de la tupla del apartado 5, que se encuentre más o menos en la mitad.\n",
    "7. Convierte la tupla del apartado 5 en una lista"
   ]
  },
  {
   "cell_type": "code",
   "execution_count": 40,
   "metadata": {},
   "outputs": [
    {
     "name": "stdout",
     "output_type": "stream",
     "text": [
      "1.- Tupla original: ('Hola', 6, False)\n",
      "2.- Tupla con un elemento ('Que',) de tipo <class 'tuple'>\n",
      "3.- La tupla 6a tiene varios tipos de elementos\n",
      "4a.- Primer tipo de elemento de la tupla <class 'str'>\n",
      "4b.- Último elemento de la tupla: <class 'bool'>\n",
      "['Que', 'Tal']\n",
      "5.- ('Que', 'Tal') tiene un elemento más que ('Que',)\n",
      "6.- Tupla original: ('Hola', 6, False) . Tupla sin el elemento: ('Que',)\n",
      "7.- Lista proveniente de la tupla 6b: ['Que'] , de tipo <class 'list'>\n"
     ]
    }
   ],
   "source": [
    "tuple_6a = (\"Hola\", 6, False)\n",
    "print(\"1.- Tupla original:\",tuple_6a)\n",
    "tuple_6b = (\"Que\",)\n",
    "print(\"2.- Tupla con un elemento\", tuple_6b, \"de tipo\", type(tuple_6b))\n",
    "print(\"3.- La tupla 6a tiene varios tipos de elementos\")\n",
    "print(\"4a.- Primer tipo de elemento de la tupla\", type(tuple_6a[0]))\n",
    "print(\"4b.- Último elemento de la tupla:\", type(tuple_6a[len(tuple_6a)-1]))\n",
    "lista_6 = list(tuple_6b)\n",
    "lista_6.append(\"Tal\")\n",
    "print(lista_6)\n",
    "tuple_6c = tuple(lista_6)\n",
    "print(f\"5.- {tuple_6c} tiene un elemento más que {tuple_6b}\")\n",
    "lista_6b = list(tuple_6a)\n",
    "lista_6b.pop(int(len(lista_6b)/2))\n",
    "print(\"6.- Tupla original:\", tuple_6a, \". Tupla sin el elemento:\", tuple_6b)\n",
    "lista_6c = list(tuple_6b)\n",
    "print(\"7.- Lista proveniente de la tupla 6b:\", lista_6c, \", de tipo\", type(lista_6c))\n",
    "\n"
   ]
  },
  {
   "cell_type": "code",
   "execution_count": 41,
   "metadata": {},
   "outputs": [
    {
     "name": "stdout",
     "output_type": "stream",
     "text": [
      "('Que', 'Tal', 5)\n"
     ]
    }
   ],
   "source": [
    "''' Ej 6.5: Podemos \"concatenar\" tuplas:'''\n",
    "tuple_6_3a = tuple_6c + (5,)\n",
    "print(tuple_6_3a)"
   ]
  },
  {
   "attachments": {},
   "cell_type": "markdown",
   "metadata": {},
   "source": [
    "## Ejercicio 7\n",
    "Concatena todos los elementos de la tupla en un único string. Para ello utiliza el metodo `.join()` de los Strings\n",
    "> ```ejer_7 = (\"cien\", \"cañones\", \"por\", \"banda\")```\n",
    "\n",
    "Resultado: `cien cañones por banda`"
   ]
  },
  {
   "cell_type": "code",
   "execution_count": 44,
   "metadata": {},
   "outputs": [
    {
     "name": "stdout",
     "output_type": "stream",
     "text": [
      "cien cañones por banda\n",
      "<class 'str'>\n"
     ]
    }
   ],
   "source": [
    "ejer_7 = (\"cien\", \"cañones\", \"por\", \"banda\")\n",
    "ejer_7b = \" \".join(ejer_7)\n",
    "print(ejer_7b)"
   ]
  },
  {
   "cell_type": "markdown",
   "metadata": {},
   "source": [
    "## Ejercicio 8\n",
    "Obten el tercer elemento de la siguiente tupla, y el tercero empezando por la cola\n",
    "> ```ejer_8 = (3, 20, 3, 47, 19, 3, 29, 45, 67, 78, 90, 3, 3)```"
   ]
  },
  {
   "cell_type": "code",
   "execution_count": 27,
   "metadata": {},
   "outputs": [
    {
     "name": "stdout",
     "output_type": "stream",
     "text": [
      "Tercer elemento: 3\n",
      "Tercer elemento por el final: 90\n"
     ]
    }
   ],
   "source": [
    "ejer_8 = (3, 20, 3, 47, 19, 3, 29, 45, 67, 78, 90, 3, 3)\n",
    "print(\"Tercer elemento:\",ejer_8[2])\n",
    "print(\"Tercer elemento por el final:\",ejer_8[len(ejer_8)-3])"
   ]
  },
  {
   "cell_type": "markdown",
   "metadata": {},
   "source": [
    "## Ejercicio 11\n",
    "Convierte la siguiente lista en un diccionario\n",
    "> ```ejer_11 = [(\"x\", 1), (\"x\", 2), (\"x\", 3), (\"y\", 1), (\"y\", 2), (\"z\", 1)]```\n",
    "\n",
    "TIP: Puedes usar dos variables de control en un bucle `for`. Una por cada valor de las tuplas."
   ]
  },
  {
   "cell_type": "code",
   "execution_count": 62,
   "metadata": {},
   "outputs": [
    {
     "name": "stdout",
     "output_type": "stream",
     "text": [
      "{'x': [1, 2, 3], 'y': [1, 2], 'z': [1]}\n",
      "{'x': [1, 2, 3], 'y': [1, 2], 'z': [1]}\n"
     ]
    }
   ],
   "source": [
    "ejer_11 = [(\"x\", 1), (\"x\", 2), (\"x\", 3), (\"y\", 1), (\"y\", 2), (\"z\", 1)]\n",
    "\n",
    "dict_11 = {}\n",
    "for clave, valor in ejer_11:\n",
    "    if clave not in dict_11:\n",
    "        dict_11[clave] = [valor] ### Con esto, ya le estoy diciendo que el resultado será una lista (por los \"[]\").\n",
    "    else:\n",
    "        dict_11[clave] = dict_11[clave] + [valor]\n",
    "print(dict_11)\n",
    "\n",
    "### Forma con el append:\n",
    "ejer_11 = [(\"x\", 1), (\"x\", 2), (\"x\", 3), (\"y\", 1), (\"y\", 2), (\"z\", 1)]\n",
    "dict_11c = {}\n",
    "for clave , valor in ejer_11:\n",
    "    if clave not in dict_11c:\n",
    "        dict_11c[clave] = [valor]\n",
    "    else:\n",
    "        dict_11c[clave].append(valor)\n",
    "print(dict_11c)\n",
    "\n",
    "# import pandas as pd\n",
    "# pd.DataFrame(ejer_11)\n"
   ]
  },
  {
   "cell_type": "code",
   "execution_count": 56,
   "metadata": {},
   "outputs": [
    {
     "name": "stdout",
     "output_type": "stream",
     "text": [
      "{'hola': 2}\n"
     ]
    }
   ],
   "source": [
    "dict_test = {}\n",
    "dict_test[\"hola\"] = 2\n",
    "print(dict_test)"
   ]
  },
  {
   "cell_type": "code",
   "execution_count": 53,
   "metadata": {},
   "outputs": [
    {
     "name": "stdout",
     "output_type": "stream",
     "text": [
      "{'x': [3], 'y': [2], 'z': [1]}\n"
     ]
    }
   ],
   "source": [
    "''' Pasar a ints los resultados'''\n",
    "\n",
    "ejer_11 = [(\"x\", 1), (\"x\", 2), (\"x\", 3), (\"y\", 1), (\"y\", 2), (\"z\", 1)]\n",
    "dict_11b = {}\n",
    "for clave, valor in ejer_11:\n",
    "    dict_11b[clave] = [int(valor)]\n",
    "print(dict_11b)\n"
   ]
  },
  {
   "attachments": {},
   "cell_type": "markdown",
   "metadata": {},
   "source": [
    "## Ejercicio 12\n",
    "1. Crea una lista ordenada ascendente con las claves del diccionario\n",
    "2. Crea otra lista ordenada descendente con los valores\n",
    "3. Añade una nueva clave/valor\n",
    "4. Busca la clave igual a 2 dentro del diccionario\n",
    "5. Itera la clave y el valor del diccionario con un único for\n",
    "> ```ejer_12 = {4:78, 2:98, 8:234, 5:29}```"
   ]
  },
  {
   "cell_type": "code",
   "execution_count": 68,
   "metadata": {},
   "outputs": [
    {
     "name": "stdout",
     "output_type": "stream",
     "text": [
      "1.- Lista con claves en ascendente: [2, 4, 5, 8]\n",
      "2.- Lista con valores en descendente: [234, 98, 78, 29]\n",
      "3.- Diccionario con nueva clave 10 y valor 45: {4: 78, 2: 98, 8: 234, 5: 29, 10: 45}\n",
      "4.- Valor con clave 2: 98\n",
      "5.- Clave 4 con valor 78\n",
      "5.- Clave 2 con valor 98\n",
      "5.- Clave 8 con valor 234\n",
      "5.- Clave 5 con valor 29\n",
      "5.- Clave 10 con valor 45\n",
      "Clave no encontrada\n",
      "4 78\n",
      "2 98\n",
      "8 234\n",
      "5 29\n",
      "10 45\n"
     ]
    }
   ],
   "source": [
    "ejer_12 = {4:78, 2:98, 8:234, 5:29}\n",
    "list_12a = list(ejer_12.keys())\n",
    "#print(list_12a)\n",
    "list_12a.sort()\n",
    "print(\"1.- Lista con claves en ascendente:\", list_12a)\n",
    "list_12b = list(ejer_12.values())\n",
    "list_12b.sort(reverse=True)\n",
    "print(\"2.- Lista con valores en descendente:\", list_12b)\n",
    "ejer_12[10]=45\n",
    "print(\"3.- Diccionario con nueva clave 10 y valor 45:\",ejer_12)\n",
    "print(\"4.- Valor con clave 2:\", ejer_12[2])\n",
    "for x in ejer_12:\n",
    "    print(f\"5.- Clave {x} con valor {ejer_12[x]}\")\n",
    "\n",
    "\n",
    "''' Ejercicio 12.4\n",
    "\n",
    "Me ha salido porque existe, pero si no existiera daría error. Lo siguiente es mejor\n",
    "para que no pete el código. En este caso, no hay ninguna clave 3:\n",
    "\n",
    "'''\n",
    "\n",
    "print(ejer_12.get(3,\"Clave no encontrada\"))\n",
    "\n",
    "\n",
    "''' Ejercicio 12.5\n",
    "\n",
    "Podemos utilizar un .items también:\n",
    "'''\n",
    "for clave, valor in ejer_12.items():\n",
    "    print(clave,valor)\n"
   ]
  },
  {
   "cell_type": "markdown",
   "metadata": {},
   "source": [
    "## Ejercicio 13\n",
    "Junta ambos diccionarios. Para ello, utiliza `update`\n",
    "> ```ejer_13_1 = {1: 11, 2: 22}```\n",
    ">\n",
    "> ```ejer_13_2 = {3: 33, 4: 44}```"
   ]
  },
  {
   "cell_type": "code",
   "execution_count": 71,
   "metadata": {},
   "outputs": [
    {
     "name": "stdout",
     "output_type": "stream",
     "text": [
      "{1: 11, 2: 22, 3: 33, 4: 44}\n",
      "{1: 11, 2: 22, 3: 33, 4: 44}\n"
     ]
    }
   ],
   "source": [
    "ejer_13_1 = {1: 11, 2: 22}\n",
    "ejer_13_2 = {3: 33, 4: 44}\n",
    "ejer_12_3 = ejer_13_1\n",
    "#print(ejer_12_3)\n",
    "for x,clave in enumerate(ejer_13_2):\n",
    "    ejer_12_3.update({clave:ejer_13_2[clave]})\n",
    "print(ejer_12_3)\n",
    "\n",
    "\n",
    "### Deja de utilizar el enumerate, copón\n",
    "\n",
    "for x in ejer_13_2:\n",
    "    ejer_12_3.update({x:ejer_12_3[x]})\n",
    "print(ejer_12_3)"
   ]
  },
  {
   "cell_type": "markdown",
   "metadata": {},
   "source": [
    "## Ejercicio 14\n",
    "Suma todos los valores del dicionario\n",
    "> ```ejer_14 = {1: 11, 2: 22, 3: 33, 4: 44, 5: 55}```"
   ]
  },
  {
   "cell_type": "code",
   "execution_count": 78,
   "metadata": {},
   "outputs": [
    {
     "ename": "SyntaxError",
     "evalue": "invalid syntax (4239010635.py, line 8)",
     "output_type": "error",
     "traceback": [
      "\u001b[1;36m  Cell \u001b[1;32mIn[78], line 8\u001b[1;36m\u001b[0m\n\u001b[1;33m    //TODO: Ver qué ha pasado aquí\u001b[0m\n\u001b[1;37m    ^\u001b[0m\n\u001b[1;31mSyntaxError\u001b[0m\u001b[1;31m:\u001b[0m invalid syntax\n"
     ]
    }
   ],
   "source": [
    "ejer_14 = {1: 11, 2: 22, 3: 33, 4: 44, 5: 55}\n",
    "values = list(ejer_14.values())\n",
    "sum = 0\n",
    "for x in values:\n",
    "     sum = sum + x\n",
    "print(\"Resultado:\", sum)\n",
    "\n",
    "##TODO: Ver qué ha pasado aquí\n",
    "''' Se puede hacer también con el sum'''\n",
    "list(ejer_14.values())\n",
    "sum(ejer_14.values())"
   ]
  },
  {
   "cell_type": "markdown",
   "metadata": {},
   "source": [
    "## Ejercicio 15\n",
    "Multiplica todos los valores del diccionario\n",
    "> ```ejer_15 = {1: 11, 2: 22, 3: 33, 4: 44, 5: 55}```"
   ]
  },
  {
   "cell_type": "code",
   "execution_count": 87,
   "metadata": {},
   "outputs": [
    {
     "name": "stdout",
     "output_type": "stream",
     "text": [
      "Resultado: 19326120\n",
      "Resultado: 19326120\n"
     ]
    }
   ],
   "source": [
    "ejer_15 = {1: 11, 2: 22, 3: 33, 4: 44, 5: 55}\n",
    "values_15 = list(ejer_15.values())\n",
    "mult = 1\n",
    "for x in values_15:\n",
    "    mult = mult * x\n",
    "print(\"Resultado:\", mult)\n",
    "\n",
    "\n",
    "'''Hay una forma más ágil de hacer lo de la nueva variable:'''\n",
    "ejer_15 = {1: 11, 2: 22, 3: 33, 4: 44, 5: 55}\n",
    "values_15 = list(ejer_15.values())\n",
    "mult = 1\n",
    "for x in values_15:\n",
    "    mult *= x ### Aquí está la diferencia\n",
    "print(\"Resultado:\", mult)"
   ]
  },
  {
   "cell_type": "code",
   "execution_count": 86,
   "metadata": {},
   "outputs": [
    {
     "name": "stdout",
     "output_type": "stream",
     "text": [
      "19326120\n",
      "19326120\n"
     ]
    }
   ],
   "source": [
    "''' Forma con numpy'''\n",
    "import numpy as np\n",
    "print(np.prod(list(ejer_15.values())))\n",
    "\n",
    "\n",
    "''' Forma con math'''\n",
    "import math\n",
    "print(math.prod(ejer_15.values()))"
   ]
  },
  {
   "cell_type": "code",
   "execution_count": 85,
   "metadata": {},
   "outputs": [
    {
     "name": "stdout",
     "output_type": "stream",
     "text": [
      "19326120\n"
     ]
    }
   ],
   "source": []
  },
  {
   "cell_type": "markdown",
   "metadata": {},
   "source": [
    "## Ejercicio 16\n",
    "1. Crea un set de tres elementos\n",
    "2. Añade un cuarto\n",
    "3. Elimina el último elemento añadido\n",
    "4. Elimina el elemento 10, si está presente. Usa `discard()`"
   ]
  },
  {
   "cell_type": "code",
   "execution_count": 133,
   "metadata": {},
   "outputs": [
    {
     "name": "stdout",
     "output_type": "stream",
     "text": [
      "1.- Set: {False, 10, 'Patata'}\n",
      "2.- Set con el nuevo elemento: {False, 10, 'Patata', 'hola'}\n",
      "3.- Set sin el elemento hola: {False, 10, 'Patata'}\n",
      "4.- Set sin 10: {False, 'Patata'}\n"
     ]
    }
   ],
   "source": [
    "set_16 = {10, \"Patata\", False}\n",
    "print(\"1.- Set:\", set_16)\n",
    "n_element = input(\"¿Qué quieres añadir?\")\n",
    "set_16.add(n_element)\n",
    "print(\"2.- Set con el nuevo elemento:\", set_16)\n",
    "set_16.remove(n_element)\n",
    "print(f\"3.- Set sin el elemento {n_element}: {set_16}\")\n",
    "set_16.discard(10) ### Info: si no lo encuentra, no da error. Es la diferencia entre discard y remove\n",
    "print(f\"4.- Set sin 10: {set_16}\")\n"
   ]
  }
 ],
 "metadata": {
  "kernelspec": {
   "display_name": "Python 3.7.4 64-bit",
   "language": "python",
   "name": "python3"
  },
  "language_info": {
   "codemirror_mode": {
    "name": "ipython",
    "version": 3
   },
   "file_extension": ".py",
   "mimetype": "text/x-python",
   "name": "python",
   "nbconvert_exporter": "python",
   "pygments_lexer": "ipython3",
   "version": "3.12.5"
  },
  "vscode": {
   "interpreter": {
    "hash": "90139cb9a825bf3d63f6f6704e828dbd1ff7edbd4d0c6e906a71235d6efc74af"
   }
  }
 },
 "nbformat": 4,
 "nbformat_minor": 4
}
